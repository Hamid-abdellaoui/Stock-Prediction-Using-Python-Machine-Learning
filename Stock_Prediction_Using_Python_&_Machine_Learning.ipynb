{
  "nbformat": 4,
  "nbformat_minor": 0,
  "metadata": {
    "colab": {
      "name": "Stock Prediction Using Python & Machine Learning.ipynb",
      "provenance": [],
      "include_colab_link": true
    },
    "kernelspec": {
      "name": "python3",
      "display_name": "Python 3"
    }
  },
  "cells": [
    {
      "cell_type": "markdown",
      "metadata": {
        "id": "view-in-github",
        "colab_type": "text"
      },
      "source": [
        "<a href=\"https://colab.research.google.com/github/Hamid-abdellaoui/Stock-Prediction-Using-Python-Machine-Learning/blob/main/Stock_Prediction_Using_Python_%26_Machine_Learning.ipynb\" target=\"_parent\"><img src=\"https://colab.research.google.com/assets/colab-badge.svg\" alt=\"Open In Colab\"/></a>"
      ]
    },
    {
      "cell_type": "markdown",
      "metadata": {
        "id": "EysVRMHnywy-"
      },
      "source": [
        "# **Stock Price Prediction Using Python & Machine Learning**\n"
      ]
    },
    {
      "cell_type": "code",
      "metadata": {
        "id": "JZWXonBfytaU"
      },
      "source": [
        "import math\n",
        "import pandas_datareader as web\n",
        "import numpy as np\n",
        "import pandas as pd\n",
        "from sklearn.preprocessing import MinMaxScaler\n",
        "from keras.models import Sequential\n",
        "from keras.layers import Dense,LSTM\n",
        "import matplotlib.pyplot as plt\n",
        "plt.style.use('fivethirtyeight')\n"
      ],
      "execution_count": 34,
      "outputs": []
    },
    {
      "cell_type": "code",
      "metadata": {
        "id": "ozaoFvMpytdx"
      },
      "source": [
        "df = web.DataReader('AAPL',data_source='yahoo',start='2013-01-01',end='2021-06-10')"
      ],
      "execution_count": 35,
      "outputs": []
    },
    {
      "cell_type": "code",
      "metadata": {
        "id": "lCBdQHOmytjA",
        "colab": {
          "base_uri": "https://localhost:8080/",
          "height": 448
        },
        "outputId": "013eea0a-9748-4e0e-aa7d-05733b3c2b46"
      },
      "source": [
        "df"
      ],
      "execution_count": 36,
      "outputs": [
        {
          "output_type": "execute_result",
          "data": {
            "text/html": [
              "<div>\n",
              "<style scoped>\n",
              "    .dataframe tbody tr th:only-of-type {\n",
              "        vertical-align: middle;\n",
              "    }\n",
              "\n",
              "    .dataframe tbody tr th {\n",
              "        vertical-align: top;\n",
              "    }\n",
              "\n",
              "    .dataframe thead th {\n",
              "        text-align: right;\n",
              "    }\n",
              "</style>\n",
              "<table border=\"1\" class=\"dataframe\">\n",
              "  <thead>\n",
              "    <tr style=\"text-align: right;\">\n",
              "      <th></th>\n",
              "      <th>High</th>\n",
              "      <th>Low</th>\n",
              "      <th>Open</th>\n",
              "      <th>Close</th>\n",
              "      <th>Volume</th>\n",
              "      <th>Adj Close</th>\n",
              "    </tr>\n",
              "    <tr>\n",
              "      <th>Date</th>\n",
              "      <th></th>\n",
              "      <th></th>\n",
              "      <th></th>\n",
              "      <th></th>\n",
              "      <th></th>\n",
              "      <th></th>\n",
              "    </tr>\n",
              "  </thead>\n",
              "  <tbody>\n",
              "    <tr>\n",
              "      <th>2013-01-02</th>\n",
              "      <td>19.821428</td>\n",
              "      <td>19.343929</td>\n",
              "      <td>19.779285</td>\n",
              "      <td>19.608213</td>\n",
              "      <td>560518000.0</td>\n",
              "      <td>17.010899</td>\n",
              "    </tr>\n",
              "    <tr>\n",
              "      <th>2013-01-03</th>\n",
              "      <td>19.631071</td>\n",
              "      <td>19.321428</td>\n",
              "      <td>19.567142</td>\n",
              "      <td>19.360714</td>\n",
              "      <td>352965200.0</td>\n",
              "      <td>16.796177</td>\n",
              "    </tr>\n",
              "    <tr>\n",
              "      <th>2013-01-04</th>\n",
              "      <td>19.236786</td>\n",
              "      <td>18.779642</td>\n",
              "      <td>19.177500</td>\n",
              "      <td>18.821428</td>\n",
              "      <td>594333600.0</td>\n",
              "      <td>16.328323</td>\n",
              "    </tr>\n",
              "    <tr>\n",
              "      <th>2013-01-07</th>\n",
              "      <td>18.903570</td>\n",
              "      <td>18.400000</td>\n",
              "      <td>18.642857</td>\n",
              "      <td>18.710714</td>\n",
              "      <td>484156400.0</td>\n",
              "      <td>16.232281</td>\n",
              "    </tr>\n",
              "    <tr>\n",
              "      <th>2013-01-08</th>\n",
              "      <td>18.996071</td>\n",
              "      <td>18.616072</td>\n",
              "      <td>18.900356</td>\n",
              "      <td>18.761070</td>\n",
              "      <td>458707200.0</td>\n",
              "      <td>16.275965</td>\n",
              "    </tr>\n",
              "    <tr>\n",
              "      <th>...</th>\n",
              "      <td>...</td>\n",
              "      <td>...</td>\n",
              "      <td>...</td>\n",
              "      <td>...</td>\n",
              "      <td>...</td>\n",
              "      <td>...</td>\n",
              "    </tr>\n",
              "    <tr>\n",
              "      <th>2021-06-04</th>\n",
              "      <td>126.160004</td>\n",
              "      <td>123.849998</td>\n",
              "      <td>124.070000</td>\n",
              "      <td>125.889999</td>\n",
              "      <td>75087300.0</td>\n",
              "      <td>125.889999</td>\n",
              "    </tr>\n",
              "    <tr>\n",
              "      <th>2021-06-07</th>\n",
              "      <td>126.320000</td>\n",
              "      <td>124.830002</td>\n",
              "      <td>126.169998</td>\n",
              "      <td>125.900002</td>\n",
              "      <td>71057600.0</td>\n",
              "      <td>125.900002</td>\n",
              "    </tr>\n",
              "    <tr>\n",
              "      <th>2021-06-08</th>\n",
              "      <td>128.460007</td>\n",
              "      <td>126.209999</td>\n",
              "      <td>126.599998</td>\n",
              "      <td>126.739998</td>\n",
              "      <td>74403800.0</td>\n",
              "      <td>126.739998</td>\n",
              "    </tr>\n",
              "    <tr>\n",
              "      <th>2021-06-09</th>\n",
              "      <td>127.750000</td>\n",
              "      <td>126.519997</td>\n",
              "      <td>127.209999</td>\n",
              "      <td>127.129997</td>\n",
              "      <td>56788000.0</td>\n",
              "      <td>127.129997</td>\n",
              "    </tr>\n",
              "    <tr>\n",
              "      <th>2021-06-10</th>\n",
              "      <td>128.190002</td>\n",
              "      <td>125.940002</td>\n",
              "      <td>127.019997</td>\n",
              "      <td>126.110001</td>\n",
              "      <td>71186421.0</td>\n",
              "      <td>126.110001</td>\n",
              "    </tr>\n",
              "  </tbody>\n",
              "</table>\n",
              "<p>2125 rows × 6 columns</p>\n",
              "</div>"
            ],
            "text/plain": [
              "                  High         Low  ...       Volume   Adj Close\n",
              "Date                                ...                         \n",
              "2013-01-02   19.821428   19.343929  ...  560518000.0   17.010899\n",
              "2013-01-03   19.631071   19.321428  ...  352965200.0   16.796177\n",
              "2013-01-04   19.236786   18.779642  ...  594333600.0   16.328323\n",
              "2013-01-07   18.903570   18.400000  ...  484156400.0   16.232281\n",
              "2013-01-08   18.996071   18.616072  ...  458707200.0   16.275965\n",
              "...                ...         ...  ...          ...         ...\n",
              "2021-06-04  126.160004  123.849998  ...   75087300.0  125.889999\n",
              "2021-06-07  126.320000  124.830002  ...   71057600.0  125.900002\n",
              "2021-06-08  128.460007  126.209999  ...   74403800.0  126.739998\n",
              "2021-06-09  127.750000  126.519997  ...   56788000.0  127.129997\n",
              "2021-06-10  128.190002  125.940002  ...   71186421.0  126.110001\n",
              "\n",
              "[2125 rows x 6 columns]"
            ]
          },
          "metadata": {
            "tags": []
          },
          "execution_count": 36
        }
      ]
    },
    {
      "cell_type": "code",
      "metadata": {
        "id": "W-tpJeHSytm2",
        "colab": {
          "base_uri": "https://localhost:8080/"
        },
        "outputId": "6b5344cd-ac1a-4c90-a861-7ac8f7882490"
      },
      "source": [
        "df.shape"
      ],
      "execution_count": 37,
      "outputs": [
        {
          "output_type": "execute_result",
          "data": {
            "text/plain": [
              "(2125, 6)"
            ]
          },
          "metadata": {
            "tags": []
          },
          "execution_count": 37
        }
      ]
    },
    {
      "cell_type": "code",
      "metadata": {
        "id": "lMGYLSSzzols",
        "colab": {
          "base_uri": "https://localhost:8080/",
          "height": 557
        },
        "outputId": "cbdbe216-8cd5-40b5-962b-42e6f3270873"
      },
      "source": [
        "plt.figure(figsize=(16,8))\n",
        "plt.title('Close Price History')\n",
        "plt.plot(df['Close'])\n",
        "plt.xlabel('Date',fontsize=18)\n",
        "plt.ylabel('Close Price USD($)',fontsize=18)\n",
        "plt.show()"
      ],
      "execution_count": 38,
      "outputs": [
        {
          "output_type": "display_data",
          "data": {
            "image/png": "[encoded data removed]",
            "text/plain": [
              "<Figure size 1152x576 with 1 Axes>"
            ]
          },
          "metadata": {
            "tags": []
          }
        }
      ]
    },
    {
      "cell_type": "code",
      "metadata": {
        "id": "7ODfKsz9zonj",
        "colab": {
          "base_uri": "https://localhost:8080/"
        },
        "outputId": "9f2f38d3-828a-43c3-90f9-a359745d01c8"
      },
      "source": [
        "data=df.filter(['Close'])\n",
        "dataset=data.values\n",
        "training_data_len= math.ceil(len(dataset) * .8)\n",
        "\n",
        "#scale the data\n",
        "scaler=MinMaxScaler(feature_range=(0,1))\n",
        "scaled_data=scaler.fit_transform(dataset)\n",
        "\n",
        "scaled_data"
      ],
      "execution_count": 39,
      "outputs": [
        {
          "output_type": "execute_result",
          "data": {
            "text/plain": [
              "array([[0.04380933],\n",
              "       [0.04189388],\n",
              "       [0.03772025],\n",
              "       ...,\n",
              "       [0.87292247],\n",
              "       [0.87594075],\n",
              "       [0.8680468 ]])"
            ]
          },
          "metadata": {
            "tags": []
          },
          "execution_count": 39
        }
      ]
    },
    {
      "cell_type": "code",
      "metadata": {
        "id": "tvlvLyoizoq4",
        "colab": {
          "base_uri": "https://localhost:8080/"
        },
        "outputId": "28bb9df6-4bcb-43bf-f6c1-feec67cce2ca"
      },
      "source": [
        "#Create training data set\n",
        "\n",
        "train_data=scaled_data[0:training_data_len,:]\n",
        "\n",
        "#split the data into x_train and y_train data sets\n",
        "\n",
        "x_train =[]\n",
        "y_train=[]\n",
        "\n",
        "\n",
        "for i in range(60,len(train_data)):\n",
        "  x_train.append(train_data[i-60:i,0])\n",
        "  y_train.append(train_data[i,0])\n",
        "  if i<=60:\n",
        "\n",
        "    print(x_train)\n",
        "    print(y_train)\n",
        "    print()"
      ],
      "execution_count": 40,
      "outputs": [
        {
          "output_type": "stream",
          "text": [
            "[array([0.04380933, 0.04189388, 0.03772025, 0.03686341, 0.03725313,\n",
            "       0.0349839 , 0.03675563, 0.03586838, 0.03074117, 0.02636576,\n",
            "       0.03194073, 0.03099821, 0.03025747, 0.03157589, 0.03412982,\n",
            "       0.01657569, 0.01364032, 0.0163905 , 0.0187233 , 0.01832529,\n",
            "       0.01795492, 0.01743805, 0.01431474, 0.01860446, 0.01846902,\n",
            "       0.02147349, 0.02334195, 0.02471012, 0.02138504, 0.02113904,\n",
            "       0.02102296, 0.01924571, 0.01919871, 0.01611963, 0.01534846,\n",
            "       0.01666137, 0.01444741, 0.01615279, 0.01493663, 0.01406045,\n",
            "       0.0110394 , 0.00815932, 0.01122458, 0.00970992, 0.0110698 ,\n",
            "       0.0113849 , 0.01308475, 0.01047554, 0.01045343, 0.0116005 ,\n",
            "       0.01468511, 0.01801849, 0.01767853, 0.01701239, 0.01719205,\n",
            "       0.01972941, 0.02019099, 0.01951658, 0.01701239, 0.01440871])]\n",
            "[0.010608216319641275]\n",
            "\n"
          ],
          "name": "stdout"
        }
      ]
    },
    {
      "cell_type": "code",
      "metadata": {
        "id": "fAi0qySGzoj2",
        "colab": {
          "base_uri": "https://localhost:8080/"
        },
        "outputId": "2ee89e83-0125-49c6-faec-28b20f888695"
      },
      "source": [
        "#convert train data to numpy arrays\n",
        "x_train,y_train=np.array(x_train),np.array(y_train)\n",
        "\n",
        "#Reshape\n",
        "x_train.shape"
      ],
      "execution_count": 41,
      "outputs": [
        {
          "output_type": "execute_result",
          "data": {
            "text/plain": [
              "(1640, 60)"
            ]
          },
          "metadata": {
            "tags": []
          },
          "execution_count": 41
        }
      ]
    },
    {
      "cell_type": "code",
      "metadata": {
        "id": "FvsPzNnv3JCP",
        "colab": {
          "base_uri": "https://localhost:8080/"
        },
        "outputId": "6c4ff4b9-c753-4b7b-8ff8-b695831848a7"
      },
      "source": [
        "x_train=np.reshape(x_train,(x_train.shape[0],x_train.shape[1],1))\n",
        "x_train.shape"
      ],
      "execution_count": 42,
      "outputs": [
        {
          "output_type": "execute_result",
          "data": {
            "text/plain": [
              "(1640, 60, 1)"
            ]
          },
          "metadata": {
            "tags": []
          },
          "execution_count": 42
        }
      ]
    },
    {
      "cell_type": "code",
      "metadata": {
        "id": "p6qzB8J_3JFY"
      },
      "source": [
        "# build LSTM model\n",
        "model=Sequential()\n",
        "model.add(LSTM(50,return_sequences=True,input_shape=(x_train.shape[1],1)))\n",
        "model.add(LSTM(50,return_sequences=False))\n",
        "model.add(Dense(25))\n",
        "model.add(Dense(1))\n"
      ],
      "execution_count": 43,
      "outputs": []
    },
    {
      "cell_type": "code",
      "metadata": {
        "id": "dgAZuAq23JMo"
      },
      "source": [
        "#copile the model\n",
        "model.compile(optimizer='adam',loss='mean_squared_error')\n"
      ],
      "execution_count": 44,
      "outputs": []
    },
    {
      "cell_type": "code",
      "metadata": {
        "id": "ZWyCt15l3JLh",
        "colab": {
          "base_uri": "https://localhost:8080/"
        },
        "outputId": "c9952701-eace-4d21-de9c-e90924ce7880"
      },
      "source": [
        "#train the model\n",
        "model.fit(x_train,y_train,batch_size=1,epochs=1)"
      ],
      "execution_count": 45,
      "outputs": [
        {
          "output_type": "stream",
          "text": [
            "1640/1640 [==============================] - 38s 21ms/step - loss: 6.6048e-04\n"
          ],
          "name": "stdout"
        },
        {
          "output_type": "execute_result",
          "data": {
            "text/plain": [
              "<keras.callbacks.History at 0x7fcc62d093d0>"
            ]
          },
          "metadata": {
            "tags": []
          },
          "execution_count": 45
        }
      ]
    },
    {
      "cell_type": "code",
      "metadata": {
        "id": "jKmzHwaD4ydR"
      },
      "source": [
        "#create the testing data set\n",
        "#create a new array containing scaled values from index 1543 to 2003\n",
        "test_data=scaled_data[training_data_len - 60:,:]\n",
        "#create the data sets x_test and y_test\n",
        "x_test=[]\n",
        "y_test=dataset[training_data_len:,:]\n",
        "for i in range(60,len(test_data)):\n",
        "  x_test.append(test_data[i-60:i,0])"
      ],
      "execution_count": 51,
      "outputs": []
    },
    {
      "cell_type": "code",
      "metadata": {
        "id": "yjtXbyQ64yfy"
      },
      "source": [
        "#convert the data to a numpy array\n",
        "x_test=np.array(x_test)\n",
        "#reshape\n",
        "x_test=np.reshape(x_test,(x_test.shape[0],x_test.shape[1],1))\n"
      ],
      "execution_count": 52,
      "outputs": []
    },
    {
      "cell_type": "code",
      "metadata": {
        "id": "UGPIAfGb4yla"
      },
      "source": [
        "#get the models predicted price values\n",
        "predictions=model.predict(x_test)\n",
        "predictions=scaler.inverse_transform(predictions)\n"
      ],
      "execution_count": 53,
      "outputs": []
    },
    {
      "cell_type": "code",
      "metadata": {
        "id": "4DFTeGAk4yqI",
        "colab": {
          "base_uri": "https://localhost:8080/"
        },
        "outputId": "36280154-a3a7-4a5c-fce4-4b3e14c3563d"
      },
      "source": [
        "#Get the root mean squared error(RMSE)\n",
        "rmse=np.sqrt( np.mean((predictions - y_test)**2))\n",
        "rmse"
      ],
      "execution_count": 54,
      "outputs": [
        {
          "output_type": "execute_result",
          "data": {
            "text/plain": [
              "7.279658504769077"
            ]
          },
          "metadata": {
            "tags": []
          },
          "execution_count": 54
        }
      ]
    },
    {
      "cell_type": "code",
      "metadata": {
        "id": "3qn1_DMBytqQ",
        "colab": {
          "base_uri": "https://localhost:8080/",
          "height": 659
        },
        "outputId": "f104b411-729d-42a1-e171-ff9b270cd90f"
      },
      "source": [
        "train=data[:training_data_len]\n",
        "valid=data[training_data_len:]\n",
        "valid['Predictions']=predictions\n",
        "\n",
        "#visualize the data\n",
        "plt.figure(figsize=(16,8))\n",
        "plt.title('Model')\n",
        "plt.xlabel('Date',fontsize=18)\n",
        "plt.ylabel('Close Price USD($)',fontsize=18)\n",
        "plt.plot(train['Close'])\n",
        "plt.plot(valid[['Close','Predictions']])\n",
        "plt.legend(['Train','Val','Predictions'],loc='lower right')\n",
        "plt.show()"
      ],
      "execution_count": 55,
      "outputs": [
        {
          "output_type": "stream",
          "text": [
            "/usr/local/lib/python3.7/dist-packages/ipykernel_launcher.py:3: SettingWithCopyWarning: \n",
            "A value is trying to be set on a copy of a slice from a DataFrame.\n",
            "Try using .loc[row_indexer,col_indexer] = value instead\n",
            "\n",
            "See the caveats in the documentation: https://pandas.pydata.org/pandas-docs/stable/user_guide/indexing.html#returning-a-view-versus-a-copy\n",
            "  This is separate from the ipykernel package so we can avoid doing imports until\n"
          ],
          "name": "stderr"
        },
        {
          "output_type": "display_data",
          "data": {
            "image/png": "[encoded data removed]",
            "text/plain": [
              "<Figure size 1152x576 with 1 Axes>"
            ]
          },
          "metadata": {
            "tags": []
          }
        }
      ]
    },
    {
      "cell_type": "code",
      "metadata": {
        "id": "Ruvb5t27yts_",
        "colab": {
          "base_uri": "https://localhost:8080/",
          "height": 448
        },
        "outputId": "8f512f80-2e4e-4e7c-d8ba-8cfbc464ca4b"
      },
      "source": [
        "#show the valid and predicted prices\n",
        "valid"
      ],
      "execution_count": 56,
      "outputs": [
        {
          "output_type": "execute_result",
          "data": {
            "text/html": [
              "<div>\n",
              "<style scoped>\n",
              "    .dataframe tbody tr th:only-of-type {\n",
              "        vertical-align: middle;\n",
              "    }\n",
              "\n",
              "    .dataframe tbody tr th {\n",
              "        vertical-align: top;\n",
              "    }\n",
              "\n",
              "    .dataframe thead th {\n",
              "        text-align: right;\n",
              "    }\n",
              "</style>\n",
              "<table border=\"1\" class=\"dataframe\">\n",
              "  <thead>\n",
              "    <tr style=\"text-align: right;\">\n",
              "      <th></th>\n",
              "      <th>Close</th>\n",
              "      <th>Predictions</th>\n",
              "    </tr>\n",
              "    <tr>\n",
              "      <th>Date</th>\n",
              "      <th></th>\n",
              "      <th></th>\n",
              "    </tr>\n",
              "  </thead>\n",
              "  <tbody>\n",
              "    <tr>\n",
              "      <th>2019-10-03</th>\n",
              "      <td>55.205002</td>\n",
              "      <td>57.681858</td>\n",
              "    </tr>\n",
              "    <tr>\n",
              "      <th>2019-10-04</th>\n",
              "      <td>56.752499</td>\n",
              "      <td>57.707031</td>\n",
              "    </tr>\n",
              "    <tr>\n",
              "      <th>2019-10-07</th>\n",
              "      <td>56.764999</td>\n",
              "      <td>57.900589</td>\n",
              "    </tr>\n",
              "    <tr>\n",
              "      <th>2019-10-08</th>\n",
              "      <td>56.099998</td>\n",
              "      <td>58.168407</td>\n",
              "    </tr>\n",
              "    <tr>\n",
              "      <th>2019-10-09</th>\n",
              "      <td>56.757500</td>\n",
              "      <td>58.372215</td>\n",
              "    </tr>\n",
              "    <tr>\n",
              "      <th>...</th>\n",
              "      <td>...</td>\n",
              "      <td>...</td>\n",
              "    </tr>\n",
              "    <tr>\n",
              "      <th>2021-06-04</th>\n",
              "      <td>125.889999</td>\n",
              "      <td>133.747650</td>\n",
              "    </tr>\n",
              "    <tr>\n",
              "      <th>2021-06-07</th>\n",
              "      <td>125.900002</td>\n",
              "      <td>133.645279</td>\n",
              "    </tr>\n",
              "    <tr>\n",
              "      <th>2021-06-08</th>\n",
              "      <td>126.739998</td>\n",
              "      <td>133.686920</td>\n",
              "    </tr>\n",
              "    <tr>\n",
              "      <th>2021-06-09</th>\n",
              "      <td>127.129997</td>\n",
              "      <td>133.914566</td>\n",
              "    </tr>\n",
              "    <tr>\n",
              "      <th>2021-06-10</th>\n",
              "      <td>126.110001</td>\n",
              "      <td>134.264328</td>\n",
              "    </tr>\n",
              "  </tbody>\n",
              "</table>\n",
              "<p>425 rows × 2 columns</p>\n",
              "</div>"
            ],
            "text/plain": [
              "                 Close  Predictions\n",
              "Date                               \n",
              "2019-10-03   55.205002    57.681858\n",
              "2019-10-04   56.752499    57.707031\n",
              "2019-10-07   56.764999    57.900589\n",
              "2019-10-08   56.099998    58.168407\n",
              "2019-10-09   56.757500    58.372215\n",
              "...                ...          ...\n",
              "2021-06-04  125.889999   133.747650\n",
              "2021-06-07  125.900002   133.645279\n",
              "2021-06-08  126.739998   133.686920\n",
              "2021-06-09  127.129997   133.914566\n",
              "2021-06-10  126.110001   134.264328\n",
              "\n",
              "[425 rows x 2 columns]"
            ]
          },
          "metadata": {
            "tags": []
          },
          "execution_count": 56
        }
      ]
    },
    {
      "cell_type": "code",
      "metadata": {
        "id": "kKUZ9VXNytlx",
        "colab": {
          "base_uri": "https://localhost:8080/"
        },
        "outputId": "da200ab0-c9fd-4f51-85d4-40dc3ea491e1"
      },
      "source": [
        "#Get the quote\n",
        "apple_quote=web.DataReader('AAPL',data_source='yahoo',start='2013-01-01',end='2021-06-09')\n",
        "#create a new dataframe\n",
        "new_df=apple_quote.filter(['Close'])\n",
        "#get the last 60 day closing price values and convert the dataframe to an array\n",
        "last_60_days=new_df[-60:].values\n",
        "#scale the data to be values between 0 and 1\n",
        "last_60_days_scaled=scaler.transform(last_60_days)\n",
        "#create an empty list\n",
        "X_test=[]\n",
        "#append the past 60 days\n",
        "X_test.append(last_60_days_scaled)\n",
        "#convert the X_test data to a numpy array\n",
        "X_test=np.array(X_test)\n",
        "#reshape\n",
        "X_test=np.reshape(X_test,(X_test.shape[0],X_test.shape[1],1))\n",
        "#get the predicted scaled price\n",
        "pred_price=model.predict(X_test)\n",
        "#undo the scaling\n",
        "pred_price=scaler.inverse_transform(pred_price)\n",
        "print(pred_price)"
      ],
      "execution_count": 63,
      "outputs": [
        {
          "output_type": "stream",
          "text": [
            "[[134.26433]]\n"
          ],
          "name": "stdout"
        }
      ]
    },
    {
      "cell_type": "code",
      "metadata": {
        "id": "hl24K-e79ajt",
        "colab": {
          "base_uri": "https://localhost:8080/"
        },
        "outputId": "8e6c364e-00fd-407e-8134-1586fadfabb1"
      },
      "source": [
        "#Get the quote\n",
        "apple_quote2=web.DataReader('AAPL',data_source='yahoo',start='2021-06-10',end='2021-06-10')\n",
        "print(apple_quote2['Close'])"
      ],
      "execution_count": 62,
      "outputs": [
        {
          "output_type": "stream",
          "text": [
            "Date\n",
            "2021-06-10    126.110001\n",
            "Name: Close, dtype: float64\n"
          ],
          "name": "stdout"
        }
      ]
    }
  ]
}